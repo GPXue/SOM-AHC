{
 "cells": [
  {
   "cell_type": "code",
   "execution_count": 2,
   "id": "ac795b70-3876-4fe0-b098-c079817c020f",
   "metadata": {
    "tags": []
   },
   "outputs": [],
   "source": [
    "import numpy as np\n",
    "import pandas as pd\n",
    "from numpy import savetxt\n",
    "import matplotlib.pyplot as plt\n",
    "import MDAnalysis as mda\n",
    "from numpy.linalg import norm\n",
    "import MDAnalysis.analysis.atomicdistances as ad\n",
    "#from MDAnalysis.analysis.dihedrals import Ramachandran\n",
    "import os"
   ]
  },
  {
   "cell_type": "markdown",
   "id": "fb9ed87a-89ca-479c-a7f6-ba047992881a",
   "metadata": {},
   "source": [
    "### We are going to calculate the distances between com of ligand 1093 and CA of binding residues.\n",
    "### We are going to use the com of binding residues for arg from 2 to 11;\n",
    "### (Not decided yet) we also calculate the distance between com ligand and com of all binding residues' CA as the arg 12 \n",
    "### Looks good, let's go."
   ]
  },
  {
   "cell_type": "code",
   "execution_count": 3,
   "id": "3e39cb5c-207d-4720-a68c-26de77759c32",
   "metadata": {
    "tags": []
   },
   "outputs": [
    {
     "name": "stdout",
     "output_type": "stream",
     "text": [
      "Path 'processed_ligC_coordinates' is already existed!\n",
      "Path 'distance_matrix' is created!\n",
      "Path 'ligC_coordinates/' is already existed!\n",
      "Path 'pictures' is already existed!\n"
     ]
    }
   ],
   "source": [
    "path = './'\n",
    "\n",
    "topfile = path+\"GLYR_6pm5.prmtop\"\n",
    "\n",
    "dcd_path = path + 'DCDs/'\n",
    "ligc_directory = 'ligC_coordinates/'\n",
    "ligc_path = path + ligc_directory\n",
    "preprocessed_directory = 'processed_ligC_coordinates'\n",
    "distance_matrix_directory = 'distance_matrix'\n",
    "preprocessed_path = path + preprocessed_directory\n",
    "distance_matrix_path = path + distance_matrix_directory\n",
    "\n",
    "pictures_directory = 'pictures'\n",
    "pictures_path = path + pictures_directory\n",
    "\n",
    "if os.path.exists(preprocessed_path)==False:\n",
    "    os.mkdir(preprocessed_path)\n",
    "    print(\"Path '%s' is created!\"%preprocessed_directory)\n",
    "else: \n",
    "    print(\"Path '%s' is already existed!\"%preprocessed_directory)\n",
    "    \n",
    "if os.path.exists(distance_matrix_path)==False:\n",
    "    os.mkdir(distance_matrix_path)\n",
    "    print(\"Path '%s' is created!\"%distance_matrix_directory)\n",
    "else: \n",
    "    print(\"Path '%s' is already existed!\"%distance_matrix_directory)    \n",
    "    \n",
    "if os.path.exists(ligc_path)==False:\n",
    "    os.mkdir(ligc_path)\n",
    "    print(\"Path '%s' is created!\"%ligc_directory)\n",
    "else: \n",
    "    print(\"Path '%s' is already existed!\"%ligc_directory)    \n",
    "    \n",
    "if os.path.exists(pictures_path)==False:\n",
    "    os.mkdir(pictures_path)\n",
    "    print(\"Path '%s' is created!\"%pictures_directory)\n",
    "else: \n",
    "    print(\"Path '%s' is already existed!\"%pictures_directory) "
   ]
  },
  {
   "cell_type": "code",
   "execution_count": 7,
   "id": "a87a7a5c-c03d-4327-823c-96be1fe4c4e9",
   "metadata": {
    "tags": []
   },
   "outputs": [
    {
     "name": "stdout",
     "output_type": "stream",
     "text": [
      "[850, 852, 855, 807, 806, 747, 495, 559, 547, 493]\n"
     ]
    }
   ],
   "source": [
    "binding_atoms_index = [13646,13681,13724,12946,12935,11988,7932,8961,8756,7893]\n",
    "binding_atoms_resid = [u.atoms[i].resid for i in binding_atoms_index]\n",
    "ligand = 1093\n",
    "\n",
    "print(binding_atoms_resid)"
   ]
  },
  {
   "cell_type": "code",
   "execution_count": 20,
   "id": "a1c363cc-c293-4de5-b327-135d0586e761",
   "metadata": {
    "tags": []
   },
   "outputs": [
    {
     "name": "stderr",
     "output_type": "stream",
     "text": [
      "/Users/xueguangpeng/anaconda3/lib/python3.11/site-packages/MDAnalysis/coordinates/DCD.py:165: DeprecationWarning: DCDReader currently makes independent timesteps by copying self.ts while other readers update self.ts inplace. This behavior will be changed in 3.0 to be the same as other readers. Read more at https://github.com/MDAnalysis/mdanalysis/issues/3889 to learn if this change in behavior might affect you.\n",
      "  warnings.warn(\"DCDReader currently makes independent timesteps\"\n"
     ]
    }
   ],
   "source": [
    "### Coordinates of com of ligand 1093\n",
    "for j in range(1,21):\n",
    "    u = mda.Universe(topfile,dcd_path+f'mtdFA_{j}.0.dcd')\n",
    "    lig_coor_lt = []\n",
    "    for ts in u.trajectory:\n",
    "        lig_coor = u.select_atoms(f'resid {ligand}').center_of_mass()    \n",
    "        lig_coor_lt.append(lig_coor)\n",
    "    np.savetxt(ligc_path+f'ligC_coor{j}.csv',lig_coor_lt,delimiter=',')    "
   ]
  },
  {
   "cell_type": "code",
   "execution_count": 21,
   "id": "2f466ae9-df1d-41e5-b6b3-174aa3aee0ee",
   "metadata": {
    "tags": []
   },
   "outputs": [],
   "source": [
    "### Concatenate all coordinates files together\n",
    "dfs = []\n",
    "for j in range(1,21):\n",
    "    df = pd.read_csv(ligc_path+f'ligC_coor{j}.csv', header=None, delimiter=',')\n",
    "    dfs.append(df)\n",
    "concatenated_df = pd.concat(dfs, axis=0, ignore_index=True)\n",
    "concatenated_df.to_csv(ligc_path+f'ligC_coor_all.csv', index=False)"
   ]
  },
  {
   "cell_type": "code",
   "execution_count": 10,
   "id": "5b634449-33c3-4cbd-b53d-aa6bc89020d1",
   "metadata": {
    "tags": []
   },
   "outputs": [],
   "source": [
    "### Distances between ligand and CA of binding residus\n",
    "for j in range(1,21):\n",
    "    u = mda.Universe(topfile,dcd_path+f'mtdFA_{j}.0.dcd')\n",
    "    for i,arg in enumerate(binding_atoms_resid):\n",
    "        distance = []\n",
    "        arg2_index = binding_atoms_resid[i]\n",
    "        for ts in u.trajectory:\n",
    "            arg1 = u.select_atoms(f'resid {ligand}').center_of_mass()\n",
    "            arg2 = u.select_atoms(f'resid {arg2_index} and name CA').positions\n",
    "            distance.append(norm(arg1 - arg2))\n",
    "        np.savetxt(distance_matrix_path+f'/dist{i}_traj{j}.csv', distance, delimiter=',')    "
   ]
  },
  {
   "cell_type": "code",
   "execution_count": 50,
   "id": "ee4bbe44-1ffb-4e85-9082-f80134a1cd44",
   "metadata": {
    "tags": []
   },
   "outputs": [
    {
     "name": "stdout",
     "output_type": "stream",
     "text": [
      "Traj 1 is being processed!\n",
      "Traj 2 is being processed!\n",
      "Traj 3 is being processed!\n",
      "Traj 4 is being processed!\n",
      "Traj 5 is being processed!\n",
      "Traj 6 is being processed!\n",
      "Traj 7 is being processed!\n",
      "Traj 8 is being processed!\n",
      "Traj 9 is being processed!\n",
      "Traj 10 is being processed!\n",
      "Traj 11 is being processed!\n",
      "Traj 12 is being processed!\n",
      "Traj 13 is being processed!\n",
      "Traj 14 is being processed!\n",
      "Traj 15 is being processed!\n",
      "Traj 16 is being processed!\n",
      "Traj 17 is being processed!\n",
      "Traj 18 is being processed!\n",
      "Traj 19 is being processed!\n",
      "Traj 20 is being processed!\n"
     ]
    }
   ],
   "source": [
    "### Concatenate all csv files of the same traj into one\n",
    "for j in range(1,21):\n",
    "    print(f'Traj {j} is being processed!')\n",
    "    dfs = []\n",
    "    for i in range(3,10): ### We don't want to use residues from loop C, which are dist0, dist1, dist2\n",
    "        # Iterate all sub-csv files from same traj and store them in a list\n",
    "        df = pd.read_csv(distance_matrix_path+f'/dist{i}_traj{j}.csv', header=None, delimiter=',')\n",
    "        dfs.append(df)\n",
    "    # Concatenate all files in the list along the columns (axis=1)\n",
    "    concatenated_df = pd.concat(dfs, axis=1, ignore_index=True)    \n",
    "    # Save the concatenated df into file\n",
    "    concatenated_df.to_csv(distance_matrix_path+f'/dist_all_traj{j}.csv',index=False)"
   ]
  },
  {
   "cell_type": "code",
   "execution_count": 51,
   "id": "0db39b44-9908-43fe-a80e-a4620fb6233b",
   "metadata": {
    "tags": []
   },
   "outputs": [
    {
     "name": "stdout",
     "output_type": "stream",
     "text": [
      "Traj 1 is being processed!\n",
      "Traj 2 is being processed!\n",
      "Traj 3 is being processed!\n",
      "Traj 4 is being processed!\n",
      "Traj 5 is being processed!\n",
      "Traj 6 is being processed!\n",
      "Traj 7 is being processed!\n",
      "Traj 8 is being processed!\n",
      "Traj 9 is being processed!\n",
      "Traj 10 is being processed!\n",
      "Traj 11 is being processed!\n",
      "Traj 12 is being processed!\n",
      "Traj 13 is being processed!\n",
      "Traj 14 is being processed!\n",
      "Traj 15 is being processed!\n",
      "Traj 16 is being processed!\n",
      "Traj 17 is being processed!\n",
      "Traj 18 is being processed!\n",
      "Traj 19 is being processed!\n",
      "Traj 20 is being processed!\n"
     ]
    }
   ],
   "source": [
    "### Concatenate all 'dist_all_traj{j}.csv' files into one\n",
    "dfs = []\n",
    "for traj in range(1,21):\n",
    "    print(f'Traj {traj} is being processed!')\n",
    "    df = pd.read_csv(distance_matrix_path+f'/dist_all_traj{traj}.csv', delimiter=',')\n",
    "    dfs.append(df)\n",
    "concatenated_df = pd.concat(dfs, axis=0, ignore_index=True)\n",
    "concatenated_df.to_csv(distance_matrix_path+f'/dist_all_traj_all.csv', index=False)"
   ]
  },
  {
   "cell_type": "code",
   "execution_count": 52,
   "id": "a60ed100-561f-416f-9d5a-f5001ee6c0bf",
   "metadata": {
    "tags": []
   },
   "outputs": [],
   "source": [
    "### Concatenate the distance matrix with the ligand coordinates file\n",
    "df1 = pd.read_csv(ligc_path+str('ligC_coor_all')+'.csv', delimiter=',')\n",
    "df2 = pd.read_csv(distance_matrix_path+f'/dist_all_traj_all.csv', delimiter=',')\n",
    "data_som = pd.concat([df1,df2], axis=1, ignore_index=True)\n",
    "data_som.to_csv(distance_matrix_path+f'/data_som.csv',index=False)"
   ]
  },
  {
   "cell_type": "code",
   "execution_count": 53,
   "id": "9371fd82-4606-4f91-bb30-90104c6a2a1d",
   "metadata": {
    "tags": []
   },
   "outputs": [
    {
     "data": {
      "text/html": [
       "<div>\n",
       "<style scoped>\n",
       "    .dataframe tbody tr th:only-of-type {\n",
       "        vertical-align: middle;\n",
       "    }\n",
       "\n",
       "    .dataframe tbody tr th {\n",
       "        vertical-align: top;\n",
       "    }\n",
       "\n",
       "    .dataframe thead th {\n",
       "        text-align: right;\n",
       "    }\n",
       "</style>\n",
       "<table border=\"1\" class=\"dataframe\">\n",
       "  <thead>\n",
       "    <tr style=\"text-align: right;\">\n",
       "      <th></th>\n",
       "      <th>0</th>\n",
       "      <th>1</th>\n",
       "      <th>2</th>\n",
       "    </tr>\n",
       "  </thead>\n",
       "  <tbody>\n",
       "    <tr>\n",
       "      <th>0</th>\n",
       "      <td>54.128346</td>\n",
       "      <td>35.324667</td>\n",
       "      <td>58.327432</td>\n",
       "    </tr>\n",
       "    <tr>\n",
       "      <th>1</th>\n",
       "      <td>54.005430</td>\n",
       "      <td>35.874759</td>\n",
       "      <td>58.957123</td>\n",
       "    </tr>\n",
       "    <tr>\n",
       "      <th>2</th>\n",
       "      <td>54.238134</td>\n",
       "      <td>36.024020</td>\n",
       "      <td>58.714942</td>\n",
       "    </tr>\n",
       "    <tr>\n",
       "      <th>3</th>\n",
       "      <td>54.211099</td>\n",
       "      <td>35.410845</td>\n",
       "      <td>58.743176</td>\n",
       "    </tr>\n",
       "    <tr>\n",
       "      <th>4</th>\n",
       "      <td>54.555177</td>\n",
       "      <td>34.921131</td>\n",
       "      <td>58.336460</td>\n",
       "    </tr>\n",
       "    <tr>\n",
       "      <th>...</th>\n",
       "      <td>...</td>\n",
       "      <td>...</td>\n",
       "      <td>...</td>\n",
       "    </tr>\n",
       "    <tr>\n",
       "      <th>199090</th>\n",
       "      <td>60.322333</td>\n",
       "      <td>18.073638</td>\n",
       "      <td>63.977756</td>\n",
       "    </tr>\n",
       "    <tr>\n",
       "      <th>199091</th>\n",
       "      <td>61.589906</td>\n",
       "      <td>19.921540</td>\n",
       "      <td>63.751187</td>\n",
       "    </tr>\n",
       "    <tr>\n",
       "      <th>199092</th>\n",
       "      <td>60.891999</td>\n",
       "      <td>20.187166</td>\n",
       "      <td>64.098845</td>\n",
       "    </tr>\n",
       "    <tr>\n",
       "      <th>199093</th>\n",
       "      <td>60.672483</td>\n",
       "      <td>18.529533</td>\n",
       "      <td>64.526087</td>\n",
       "    </tr>\n",
       "    <tr>\n",
       "      <th>199094</th>\n",
       "      <td>62.282080</td>\n",
       "      <td>16.775334</td>\n",
       "      <td>62.928206</td>\n",
       "    </tr>\n",
       "  </tbody>\n",
       "</table>\n",
       "<p>199095 rows × 3 columns</p>\n",
       "</div>"
      ],
      "text/plain": [
       "                0          1          2\n",
       "0       54.128346  35.324667  58.327432\n",
       "1       54.005430  35.874759  58.957123\n",
       "2       54.238134  36.024020  58.714942\n",
       "3       54.211099  35.410845  58.743176\n",
       "4       54.555177  34.921131  58.336460\n",
       "...           ...        ...        ...\n",
       "199090  60.322333  18.073638  63.977756\n",
       "199091  61.589906  19.921540  63.751187\n",
       "199092  60.891999  20.187166  64.098845\n",
       "199093  60.672483  18.529533  64.526087\n",
       "199094  62.282080  16.775334  62.928206\n",
       "\n",
       "[199095 rows x 3 columns]"
      ]
     },
     "execution_count": 53,
     "metadata": {},
     "output_type": "execute_result"
    }
   ],
   "source": [
    "df1"
   ]
  },
  {
   "cell_type": "code",
   "execution_count": 54,
   "id": "25992720-c513-4bd8-a69b-04bd729b22ba",
   "metadata": {
    "tags": []
   },
   "outputs": [
    {
     "data": {
      "text/html": [
       "<div>\n",
       "<style scoped>\n",
       "    .dataframe tbody tr th:only-of-type {\n",
       "        vertical-align: middle;\n",
       "    }\n",
       "\n",
       "    .dataframe tbody tr th {\n",
       "        vertical-align: top;\n",
       "    }\n",
       "\n",
       "    .dataframe thead th {\n",
       "        text-align: right;\n",
       "    }\n",
       "</style>\n",
       "<table border=\"1\" class=\"dataframe\">\n",
       "  <thead>\n",
       "    <tr style=\"text-align: right;\">\n",
       "      <th></th>\n",
       "      <th>0</th>\n",
       "      <th>1</th>\n",
       "      <th>2</th>\n",
       "      <th>3</th>\n",
       "      <th>4</th>\n",
       "      <th>5</th>\n",
       "      <th>6</th>\n",
       "    </tr>\n",
       "  </thead>\n",
       "  <tbody>\n",
       "    <tr>\n",
       "      <th>0</th>\n",
       "      <td>6.123793</td>\n",
       "      <td>8.933876</td>\n",
       "      <td>11.269693</td>\n",
       "      <td>7.736821</td>\n",
       "      <td>6.051318</td>\n",
       "      <td>7.089860</td>\n",
       "      <td>6.851120</td>\n",
       "    </tr>\n",
       "    <tr>\n",
       "      <th>1</th>\n",
       "      <td>5.374894</td>\n",
       "      <td>8.251142</td>\n",
       "      <td>11.372989</td>\n",
       "      <td>7.700322</td>\n",
       "      <td>5.886343</td>\n",
       "      <td>6.448066</td>\n",
       "      <td>6.842786</td>\n",
       "    </tr>\n",
       "    <tr>\n",
       "      <th>2</th>\n",
       "      <td>5.466425</td>\n",
       "      <td>8.348725</td>\n",
       "      <td>11.602082</td>\n",
       "      <td>7.627951</td>\n",
       "      <td>5.858999</td>\n",
       "      <td>6.894082</td>\n",
       "      <td>6.614444</td>\n",
       "    </tr>\n",
       "    <tr>\n",
       "      <th>3</th>\n",
       "      <td>5.783469</td>\n",
       "      <td>8.682888</td>\n",
       "      <td>11.716611</td>\n",
       "      <td>7.640462</td>\n",
       "      <td>6.299142</td>\n",
       "      <td>7.089859</td>\n",
       "      <td>6.512103</td>\n",
       "    </tr>\n",
       "    <tr>\n",
       "      <th>4</th>\n",
       "      <td>6.262784</td>\n",
       "      <td>9.276599</td>\n",
       "      <td>12.106043</td>\n",
       "      <td>7.408727</td>\n",
       "      <td>6.082800</td>\n",
       "      <td>7.399085</td>\n",
       "      <td>6.342047</td>\n",
       "    </tr>\n",
       "    <tr>\n",
       "      <th>...</th>\n",
       "      <td>...</td>\n",
       "      <td>...</td>\n",
       "      <td>...</td>\n",
       "      <td>...</td>\n",
       "      <td>...</td>\n",
       "      <td>...</td>\n",
       "      <td>...</td>\n",
       "    </tr>\n",
       "    <tr>\n",
       "      <th>199090</th>\n",
       "      <td>21.849113</td>\n",
       "      <td>23.777070</td>\n",
       "      <td>28.773979</td>\n",
       "      <td>15.551614</td>\n",
       "      <td>17.732967</td>\n",
       "      <td>19.260982</td>\n",
       "      <td>20.517616</td>\n",
       "    </tr>\n",
       "    <tr>\n",
       "      <th>199091</th>\n",
       "      <td>20.622778</td>\n",
       "      <td>22.772599</td>\n",
       "      <td>27.590554</td>\n",
       "      <td>13.563591</td>\n",
       "      <td>15.776109</td>\n",
       "      <td>17.549587</td>\n",
       "      <td>18.600353</td>\n",
       "    </tr>\n",
       "    <tr>\n",
       "      <th>199092</th>\n",
       "      <td>19.841974</td>\n",
       "      <td>22.217564</td>\n",
       "      <td>27.253898</td>\n",
       "      <td>13.270518</td>\n",
       "      <td>15.082409</td>\n",
       "      <td>17.111981</td>\n",
       "      <td>18.443255</td>\n",
       "    </tr>\n",
       "    <tr>\n",
       "      <th>199093</th>\n",
       "      <td>21.338511</td>\n",
       "      <td>23.620795</td>\n",
       "      <td>28.583325</td>\n",
       "      <td>14.809887</td>\n",
       "      <td>17.030677</td>\n",
       "      <td>18.637680</td>\n",
       "      <td>19.774320</td>\n",
       "    </tr>\n",
       "    <tr>\n",
       "      <th>199094</th>\n",
       "      <td>23.210040</td>\n",
       "      <td>25.478254</td>\n",
       "      <td>30.532139</td>\n",
       "      <td>16.388155</td>\n",
       "      <td>18.701922</td>\n",
       "      <td>20.927749</td>\n",
       "      <td>21.254590</td>\n",
       "    </tr>\n",
       "  </tbody>\n",
       "</table>\n",
       "<p>199095 rows × 7 columns</p>\n",
       "</div>"
      ],
      "text/plain": [
       "                0          1          2          3          4          5  \\\n",
       "0        6.123793   8.933876  11.269693   7.736821   6.051318   7.089860   \n",
       "1        5.374894   8.251142  11.372989   7.700322   5.886343   6.448066   \n",
       "2        5.466425   8.348725  11.602082   7.627951   5.858999   6.894082   \n",
       "3        5.783469   8.682888  11.716611   7.640462   6.299142   7.089859   \n",
       "4        6.262784   9.276599  12.106043   7.408727   6.082800   7.399085   \n",
       "...           ...        ...        ...        ...        ...        ...   \n",
       "199090  21.849113  23.777070  28.773979  15.551614  17.732967  19.260982   \n",
       "199091  20.622778  22.772599  27.590554  13.563591  15.776109  17.549587   \n",
       "199092  19.841974  22.217564  27.253898  13.270518  15.082409  17.111981   \n",
       "199093  21.338511  23.620795  28.583325  14.809887  17.030677  18.637680   \n",
       "199094  23.210040  25.478254  30.532139  16.388155  18.701922  20.927749   \n",
       "\n",
       "                6  \n",
       "0        6.851120  \n",
       "1        6.842786  \n",
       "2        6.614444  \n",
       "3        6.512103  \n",
       "4        6.342047  \n",
       "...           ...  \n",
       "199090  20.517616  \n",
       "199091  18.600353  \n",
       "199092  18.443255  \n",
       "199093  19.774320  \n",
       "199094  21.254590  \n",
       "\n",
       "[199095 rows x 7 columns]"
      ]
     },
     "execution_count": 54,
     "metadata": {},
     "output_type": "execute_result"
    }
   ],
   "source": [
    "df2"
   ]
  },
  {
   "cell_type": "code",
   "execution_count": 55,
   "id": "fc348c14-7492-4a19-b245-05f2aa12dcc7",
   "metadata": {
    "tags": []
   },
   "outputs": [
    {
     "data": {
      "text/html": [
       "<div>\n",
       "<style scoped>\n",
       "    .dataframe tbody tr th:only-of-type {\n",
       "        vertical-align: middle;\n",
       "    }\n",
       "\n",
       "    .dataframe tbody tr th {\n",
       "        vertical-align: top;\n",
       "    }\n",
       "\n",
       "    .dataframe thead th {\n",
       "        text-align: right;\n",
       "    }\n",
       "</style>\n",
       "<table border=\"1\" class=\"dataframe\">\n",
       "  <thead>\n",
       "    <tr style=\"text-align: right;\">\n",
       "      <th></th>\n",
       "      <th>0</th>\n",
       "      <th>1</th>\n",
       "      <th>2</th>\n",
       "      <th>3</th>\n",
       "      <th>4</th>\n",
       "      <th>5</th>\n",
       "      <th>6</th>\n",
       "      <th>7</th>\n",
       "      <th>8</th>\n",
       "      <th>9</th>\n",
       "    </tr>\n",
       "  </thead>\n",
       "  <tbody>\n",
       "    <tr>\n",
       "      <th>0</th>\n",
       "      <td>54.128346</td>\n",
       "      <td>35.324667</td>\n",
       "      <td>58.327432</td>\n",
       "      <td>6.123793</td>\n",
       "      <td>8.933876</td>\n",
       "      <td>11.269693</td>\n",
       "      <td>7.736821</td>\n",
       "      <td>6.051318</td>\n",
       "      <td>7.089860</td>\n",
       "      <td>6.851120</td>\n",
       "    </tr>\n",
       "    <tr>\n",
       "      <th>1</th>\n",
       "      <td>54.005430</td>\n",
       "      <td>35.874759</td>\n",
       "      <td>58.957123</td>\n",
       "      <td>5.374894</td>\n",
       "      <td>8.251142</td>\n",
       "      <td>11.372989</td>\n",
       "      <td>7.700322</td>\n",
       "      <td>5.886343</td>\n",
       "      <td>6.448066</td>\n",
       "      <td>6.842786</td>\n",
       "    </tr>\n",
       "    <tr>\n",
       "      <th>2</th>\n",
       "      <td>54.238134</td>\n",
       "      <td>36.024020</td>\n",
       "      <td>58.714942</td>\n",
       "      <td>5.466425</td>\n",
       "      <td>8.348725</td>\n",
       "      <td>11.602082</td>\n",
       "      <td>7.627951</td>\n",
       "      <td>5.858999</td>\n",
       "      <td>6.894082</td>\n",
       "      <td>6.614444</td>\n",
       "    </tr>\n",
       "    <tr>\n",
       "      <th>3</th>\n",
       "      <td>54.211099</td>\n",
       "      <td>35.410845</td>\n",
       "      <td>58.743176</td>\n",
       "      <td>5.783469</td>\n",
       "      <td>8.682888</td>\n",
       "      <td>11.716611</td>\n",
       "      <td>7.640462</td>\n",
       "      <td>6.299142</td>\n",
       "      <td>7.089859</td>\n",
       "      <td>6.512103</td>\n",
       "    </tr>\n",
       "    <tr>\n",
       "      <th>4</th>\n",
       "      <td>54.555177</td>\n",
       "      <td>34.921131</td>\n",
       "      <td>58.336460</td>\n",
       "      <td>6.262784</td>\n",
       "      <td>9.276599</td>\n",
       "      <td>12.106043</td>\n",
       "      <td>7.408727</td>\n",
       "      <td>6.082800</td>\n",
       "      <td>7.399085</td>\n",
       "      <td>6.342047</td>\n",
       "    </tr>\n",
       "    <tr>\n",
       "      <th>...</th>\n",
       "      <td>...</td>\n",
       "      <td>...</td>\n",
       "      <td>...</td>\n",
       "      <td>...</td>\n",
       "      <td>...</td>\n",
       "      <td>...</td>\n",
       "      <td>...</td>\n",
       "      <td>...</td>\n",
       "      <td>...</td>\n",
       "      <td>...</td>\n",
       "    </tr>\n",
       "    <tr>\n",
       "      <th>199090</th>\n",
       "      <td>60.322333</td>\n",
       "      <td>18.073638</td>\n",
       "      <td>63.977756</td>\n",
       "      <td>21.849113</td>\n",
       "      <td>23.777070</td>\n",
       "      <td>28.773979</td>\n",
       "      <td>15.551614</td>\n",
       "      <td>17.732967</td>\n",
       "      <td>19.260982</td>\n",
       "      <td>20.517616</td>\n",
       "    </tr>\n",
       "    <tr>\n",
       "      <th>199091</th>\n",
       "      <td>61.589906</td>\n",
       "      <td>19.921540</td>\n",
       "      <td>63.751187</td>\n",
       "      <td>20.622778</td>\n",
       "      <td>22.772599</td>\n",
       "      <td>27.590554</td>\n",
       "      <td>13.563591</td>\n",
       "      <td>15.776109</td>\n",
       "      <td>17.549587</td>\n",
       "      <td>18.600353</td>\n",
       "    </tr>\n",
       "    <tr>\n",
       "      <th>199092</th>\n",
       "      <td>60.891999</td>\n",
       "      <td>20.187166</td>\n",
       "      <td>64.098845</td>\n",
       "      <td>19.841974</td>\n",
       "      <td>22.217564</td>\n",
       "      <td>27.253898</td>\n",
       "      <td>13.270518</td>\n",
       "      <td>15.082409</td>\n",
       "      <td>17.111981</td>\n",
       "      <td>18.443255</td>\n",
       "    </tr>\n",
       "    <tr>\n",
       "      <th>199093</th>\n",
       "      <td>60.672483</td>\n",
       "      <td>18.529533</td>\n",
       "      <td>64.526087</td>\n",
       "      <td>21.338511</td>\n",
       "      <td>23.620795</td>\n",
       "      <td>28.583325</td>\n",
       "      <td>14.809887</td>\n",
       "      <td>17.030677</td>\n",
       "      <td>18.637680</td>\n",
       "      <td>19.774320</td>\n",
       "    </tr>\n",
       "    <tr>\n",
       "      <th>199094</th>\n",
       "      <td>62.282080</td>\n",
       "      <td>16.775334</td>\n",
       "      <td>62.928206</td>\n",
       "      <td>23.210040</td>\n",
       "      <td>25.478254</td>\n",
       "      <td>30.532139</td>\n",
       "      <td>16.388155</td>\n",
       "      <td>18.701922</td>\n",
       "      <td>20.927749</td>\n",
       "      <td>21.254590</td>\n",
       "    </tr>\n",
       "  </tbody>\n",
       "</table>\n",
       "<p>199095 rows × 10 columns</p>\n",
       "</div>"
      ],
      "text/plain": [
       "                0          1          2          3          4          5  \\\n",
       "0       54.128346  35.324667  58.327432   6.123793   8.933876  11.269693   \n",
       "1       54.005430  35.874759  58.957123   5.374894   8.251142  11.372989   \n",
       "2       54.238134  36.024020  58.714942   5.466425   8.348725  11.602082   \n",
       "3       54.211099  35.410845  58.743176   5.783469   8.682888  11.716611   \n",
       "4       54.555177  34.921131  58.336460   6.262784   9.276599  12.106043   \n",
       "...           ...        ...        ...        ...        ...        ...   \n",
       "199090  60.322333  18.073638  63.977756  21.849113  23.777070  28.773979   \n",
       "199091  61.589906  19.921540  63.751187  20.622778  22.772599  27.590554   \n",
       "199092  60.891999  20.187166  64.098845  19.841974  22.217564  27.253898   \n",
       "199093  60.672483  18.529533  64.526087  21.338511  23.620795  28.583325   \n",
       "199094  62.282080  16.775334  62.928206  23.210040  25.478254  30.532139   \n",
       "\n",
       "                6          7          8          9  \n",
       "0        7.736821   6.051318   7.089860   6.851120  \n",
       "1        7.700322   5.886343   6.448066   6.842786  \n",
       "2        7.627951   5.858999   6.894082   6.614444  \n",
       "3        7.640462   6.299142   7.089859   6.512103  \n",
       "4        7.408727   6.082800   7.399085   6.342047  \n",
       "...           ...        ...        ...        ...  \n",
       "199090  15.551614  17.732967  19.260982  20.517616  \n",
       "199091  13.563591  15.776109  17.549587  18.600353  \n",
       "199092  13.270518  15.082409  17.111981  18.443255  \n",
       "199093  14.809887  17.030677  18.637680  19.774320  \n",
       "199094  16.388155  18.701922  20.927749  21.254590  \n",
       "\n",
       "[199095 rows x 10 columns]"
      ]
     },
     "execution_count": 55,
     "metadata": {},
     "output_type": "execute_result"
    }
   ],
   "source": [
    "data = pd.read_csv(distance_matrix_path+f'/data_som.csv',header=0,delimiter=',')\n",
    "data"
   ]
  },
  {
   "cell_type": "code",
   "execution_count": 56,
   "id": "fad43965-e2d2-47ab-8bc3-e5c401c401c6",
   "metadata": {
    "tags": []
   },
   "outputs": [
    {
     "data": {
      "text/plain": [
       "(199095, 10)"
      ]
     },
     "execution_count": 56,
     "metadata": {},
     "output_type": "execute_result"
    }
   ],
   "source": [
    "data.shape"
   ]
  },
  {
   "cell_type": "code",
   "execution_count": 57,
   "id": "2780783d-2e44-494f-b2ba-ced0dde32949",
   "metadata": {
    "tags": []
   },
   "outputs": [],
   "source": [
    "data = np.loadtxt(distance_matrix_path+f'/data_som.csv',skiprows=1,delimiter=',')"
   ]
  },
  {
   "cell_type": "code",
   "execution_count": 48,
   "id": "936d0874-c8cd-4838-a8f3-4326bf7f4703",
   "metadata": {
    "tags": []
   },
   "outputs": [
    {
     "data": {
      "text/plain": [
       "array([[54.12834611, 35.32466713, 58.32743231, ...,  6.05131771,\n",
       "         7.08986009,  6.85111978],\n",
       "       [54.00543031, 35.87475856, 58.95712263, ...,  5.88634336,\n",
       "         6.44806602,  6.84278552],\n",
       "       [54.23813412, 36.02401961, 58.71494165, ...,  5.8589987 ,\n",
       "         6.89408159,  6.61444371],\n",
       "       ...,\n",
       "       [60.89199948, 20.18716626, 64.09884503, ..., 15.08240896,\n",
       "        17.11198077, 18.44325537],\n",
       "       [60.6724828 , 18.52953263, 64.52608688, ..., 17.03067665,\n",
       "        18.63767961, 19.77431953],\n",
       "       [62.28208033, 16.77533363, 62.92820575, ..., 18.70192156,\n",
       "        20.92774939, 21.2545896 ]])"
      ]
     },
     "execution_count": 48,
     "metadata": {},
     "output_type": "execute_result"
    }
   ],
   "source": [
    "data"
   ]
  },
  {
   "cell_type": "code",
   "execution_count": 49,
   "id": "d2b6c6aa-9293-4886-a506-b3c324accd60",
   "metadata": {
    "tags": []
   },
   "outputs": [
    {
     "data": {
      "text/plain": [
       "(199095, 13)"
      ]
     },
     "execution_count": 49,
     "metadata": {},
     "output_type": "execute_result"
    }
   ],
   "source": [
    "data.shape"
   ]
  },
  {
   "cell_type": "code",
   "execution_count": null,
   "id": "ec408061-f694-44f9-83bd-86f4d91ae2b3",
   "metadata": {},
   "outputs": [],
   "source": []
  }
 ],
 "metadata": {
  "kernelspec": {
   "display_name": "Python 3 (ipykernel)",
   "language": "python",
   "name": "python3"
  },
  "language_info": {
   "codemirror_mode": {
    "name": "ipython",
    "version": 3
   },
   "file_extension": ".py",
   "mimetype": "text/x-python",
   "name": "python",
   "nbconvert_exporter": "python",
   "pygments_lexer": "ipython3",
   "version": "3.11.5"
  }
 },
 "nbformat": 4,
 "nbformat_minor": 5
}
